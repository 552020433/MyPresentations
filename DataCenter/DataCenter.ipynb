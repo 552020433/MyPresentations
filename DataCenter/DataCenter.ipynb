{
 "cells": [
  {
   "cell_type": "code",
   "execution_count": 1,
   "metadata": {
    "collapsed": true,
    "slideshow": {
     "slide_type": "skip"
    }
   },
   "outputs": [],
   "source": [
    "from ipywidgets import interact, interactive, fixed\n",
    "import ipywidgets as widgets"
   ]
  },
  {
   "cell_type": "code",
   "execution_count": 2,
   "metadata": {
    "collapsed": true,
    "slideshow": {
     "slide_type": "skip"
    }
   },
   "outputs": [],
   "source": [
    "filenames = [u\"./images/幻灯片%s.jpg\"%num for num in range(1,21)]\n",
    "html = \"\".join('''<img src='%s'/ class='slides' width=\"1000\" height=\"558\" style='margin-bottom: 20px;'>'''%fn for fn in filenames)"
   ]
  },
  {
   "cell_type": "code",
   "execution_count": 3,
   "metadata": {
    "collapsed": false,
    "slideshow": {
     "slide_type": "skip"
    }
   },
   "outputs": [],
   "source": [
    "widgets.HTML(\n",
    "    value=html,\n",
    "    placeholder='Some HTML',\n",
    "    description='Some HTML',\n",
    "    disabled=False\n",
    ")"
   ]
  },
  {
   "cell_type": "raw",
   "metadata": {
    "collapsed": true,
    "slideshow": {
     "slide_type": "subslide"
    }
   },
   "source": [
    "<script src=\"https://npmcdn.com/jupyter-js-widgets@~1.0.0/dist/embed.js\"></script><script type=\"application/vnd.jupyter-embedded-widgets\">{\n",
    "    \"cb6d5dde2b894c7a8d4f056eeb7f9187\": {\n",
    "        \"model_name\": \"LayoutModel\",\n",
    "        \"model_module\": \"jupyter-js-widgets\",\n",
    "        \"state\": {},\n",
    "        \"views\": []\n",
    "    },\n",
    "    \"4e8b41382b5d4cbeb1374e5563af4cc8\": {\n",
    "        \"model_name\": \"HTMLModel\",\n",
    "        \"model_module\": \"jupyter-js-widgets\",\n",
    "        \"state\": {\n",
    "            \"layout\": \"IPY_MODEL_cb6d5dde2b894c7a8d4f056eeb7f9187\",\n",
    "            \"description\": \"Some HTML\",\n",
    "            \"placeholder\": \"Some HTML\",\n",
    "            \"value\": \"<img src='./images/幻灯片1.jpg'/ class='slides' width=\\\"1000\\\" height=\\\"558\\\" style='margin-bottom: 20px;'><img src='./images/幻灯片2.jpg'/ class='slides' width=\\\"1000\\\" height=\\\"558\\\" style='margin-bottom: 20px;'><img src='./images/幻灯片3.jpg'/ class='slides' width=\\\"1000\\\" height=\\\"558\\\" style='margin-bottom: 20px;'><img src='./images/幻灯片4.jpg'/ class='slides' width=\\\"1000\\\" height=\\\"558\\\" style='margin-bottom: 20px;'><img src='./images/幻灯片5.jpg'/ class='slides' width=\\\"1000\\\" height=\\\"558\\\" style='margin-bottom: 20px;'><img src='./images/幻灯片6.jpg'/ class='slides' width=\\\"1000\\\" height=\\\"558\\\" style='margin-bottom: 20px;'><img src='./images/幻灯片7.jpg'/ class='slides' width=\\\"1000\\\" height=\\\"558\\\" style='margin-bottom: 20px;'><img src='./images/幻灯片8.jpg'/ class='slides' width=\\\"1000\\\" height=\\\"558\\\" style='margin-bottom: 20px;'><img src='./images/幻灯片9.jpg'/ class='slides' width=\\\"1000\\\" height=\\\"558\\\" style='margin-bottom: 20px;'><img src='./images/幻灯片10.jpg'/ class='slides' width=\\\"1000\\\" height=\\\"558\\\" style='margin-bottom: 20px;'><img src='./images/幻灯片11.jpg'/ class='slides' width=\\\"1000\\\" height=\\\"558\\\" style='margin-bottom: 20px;'><img src='./images/幻灯片12.jpg'/ class='slides' width=\\\"1000\\\" height=\\\"558\\\" style='margin-bottom: 20px;'><img src='./images/幻灯片13.jpg'/ class='slides' width=\\\"1000\\\" height=\\\"558\\\" style='margin-bottom: 20px;'><img src='./images/幻灯片14.jpg'/ class='slides' width=\\\"1000\\\" height=\\\"558\\\" style='margin-bottom: 20px;'><img src='./images/幻灯片15.jpg'/ class='slides' width=\\\"1000\\\" height=\\\"558\\\" style='margin-bottom: 20px;'><img src='./images/幻灯片16.jpg'/ class='slides' width=\\\"1000\\\" height=\\\"558\\\" style='margin-bottom: 20px;'><img src='./images/幻灯片17.jpg'/ class='slides' width=\\\"1000\\\" height=\\\"558\\\" style='margin-bottom: 20px;'><img src='./images/幻灯片18.jpg'/ class='slides' width=\\\"1000\\\" height=\\\"558\\\" style='margin-bottom: 20px;'><img src='./images/幻灯片19.jpg'/ class='slides' width=\\\"1000\\\" height=\\\"558\\\" style='margin-bottom: 20px;'><img src='./images/幻灯片20.jpg'/ class='slides' width=\\\"1000\\\" height=\\\"558\\\" style='margin-bottom: 20px;'>\"\n",
    "        },\n",
    "        \"views\": [\n",
    "            {\n",
    "                \"cell\": {\n",
    "                    \"metadata\": {\n",
    "                        \"collapsed\": true,\n",
    "                        \"slideshow\": {\n",
    "                            \"slide_type\": \"slide\"\n",
    "                        },\n",
    "                        \"trusted\": true\n",
    "                    },\n",
    "                    \"cell_type\": \"code\",\n",
    "                    \"source\": \"begin\",\n",
    "                    \"execution_count\": 4,\n",
    "                    \"outputs\": []\n",
    "                },\n",
    "                \"cell_index\": 3,\n",
    "                \"root\": true\n",
    "            }\n",
    "        ]\n",
    "    }\n",
    "}</script>"
   ]
  }
 ],
 "metadata": {
  "celltoolbar": "Slideshow",
  "kernelspec": {
   "display_name": "Python 2",
   "language": "python",
   "name": "python2"
  },
  "language_info": {
   "codemirror_mode": {
    "name": "ipython",
    "version": 2
   },
   "file_extension": ".py",
   "mimetype": "text/x-python",
   "name": "python",
   "nbconvert_exporter": "python",
   "pygments_lexer": "ipython2",
   "version": "2.7.11"
  },
  "widgets": {
   "state": {
    "4e8b41382b5d4cbeb1374e5563af4cc8": {
     "views": [
      {
       "cell": {
        "cell_type": "code",
        "execution_count": 4,
        "metadata": {
         "collapsed": true,
         "slideshow": {
          "slide_type": "subslide"
         },
         "trusted": true
        },
        "outputs": [],
        "source": "begin"
       },
       "cell_index": 3,
       "root": true
      }
     ]
    },
    "cb6d5dde2b894c7a8d4f056eeb7f9187": {
     "views": []
    }
   },
   "version": "1.0.0"
  }
 },
 "nbformat": 4,
 "nbformat_minor": 2
}
